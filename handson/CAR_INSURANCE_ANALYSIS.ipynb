{
 "metadata": {
  "kernelspec": {
   "display_name": "Streamlit Notebook",
   "name": "streamlit"
  },
  "lastEditStatus": {
   "notebookId": "t26pio3vg5hl77aqmaad",
   "authorId": "6290739671967",
   "authorName": "YSAKURAGI",
   "authorEmail": "yuki.sakuragi@snowflake.com",
   "sessionId": "8c9995a9-b3cf-49f0-bd2f-31d33b8f227c",
   "lastEditTime": 1759687990771
  }
 },
 "nbformat_minor": 5,
 "nbformat": 4,
 "cells": [
  {
   "cell_type": "markdown",
   "id": "b8754222-2f3e-45e7-b4c9-b2d71bd1c299",
   "metadata": {
    "collapsed": false,
    "name": "OVERVIEW"
   },
   "source": "# AI Agent を使った分析\n- 自動車保険の約款データを使ったRAGの構築\n- Text-to-SQLで自動車保険ビジネスにおける様々な部門の課題解決に直結するインサイトの提供\n\n![img](https://lh3.googleusercontent.com/pw/AP1GczP0C8liJXnsqhXFB6JJ5ekY1n9o5yZds1KEFr9aVVM151oaEZDf9M13J-NnqlV3RT6YdApfpGiLDxJVrQzGR5O1mZxwwlzYPrhO_4MBDWz2f-3zFcLGxUU5KU_8Qr4C8Vv1bFCRZ6UenQibcp9MvrDe=w960-h540-s-no-gm?authuser=0)"
  },
  {
   "cell_type": "markdown",
   "id": "2b3092d9-7893-4c7d-8130-f1691327cc1d",
   "metadata": {
    "collapsed": false,
    "name": "_1_Overview"
   },
   "source": "## 1. ドライバー保険の約款データを使ったRAGの構築\n\n![img](https://lh3.googleusercontent.com/pw/AP1GczOt0nmRojcDHtvpF8bjBXlpPXwrG0Z6PucmBr_chM_FL1J4sk71PHCe-gRSJ4lyOi142OWep7fdf7r0N0y-kqT181fz-WJc3Rc2ZAPMdGNNOVqc8MLveyRbLgw0pr2dFjC_9mNxkXciB5S8T8FfiiB6=w960-h540-s-no-gm?authuser=0)"
  },
  {
   "cell_type": "markdown",
   "id": "983df101-d008-404a-94cd-2d5fd5129747",
   "metadata": {
    "collapsed": false,
    "name": "_1_1_Contents"
   },
   "source": "### 1-1. AI_PARSE_DOCUMENT を使った PDF データの抽出\n![img](https://lh3.googleusercontent.com/pw/AP1GczOKOjVq70egwB7rCuTetrHuGiIAL8fhNsXWqoLceZlUqOL_F9ZRKNw4slQXoJz5H00yK8e1RCtwaocc_XM6sB0Dazdb0MQk-d8Eqgouk0rmbEFB9cYP7alGClCEeRWFdWYAu39da9IgBJp3v490K-IX=w960-h540-s-no-gm?authuser=0)\n\n![img](https://lh3.googleusercontent.com/pw/AP1GczN4ZRViZzd8ER-Qmwibk82f3Hjxm0ahtC7rqjDA6XLprtw0WctVLUNGr2bpB-HmicBAU5oZ-ESQTwL8eiB4hP_LTALHwByxTbcBwjUhd2MngVpkxi4uuieln6PxGF6YmA7V2bSMbEFwd-FjqN5NG9WJ=w960-h540-s-no-gm?authuser=0)\n#### ２つの抽出モード\n- **LAYOUT モード**\n    - ほとんどのユースケース, 特に複雑な文書において推奨される\n    - テキストや表などのレイアウト要素の抽出に特化して最適化されているため, ナレッジベースの構築 / 検索システムの最適化 / AIベースのアプリケーションの強化に向いている\n\n- **OCR モード**\n    - マニュアル、契約書等からの迅速かつ高品質なテキスト抽出に向いている\n\n\n[ドキュメント](https://docs.snowflake.com/en/user-guide/snowflake-cortex/parse-document) \n\n"
  },
  {
   "cell_type": "code",
   "execution_count": null,
   "id": "d363e73d-44fb-49ba-bdf5-950633fe32c7",
   "metadata": {
    "language": "sql",
    "name": "_1_1_AI_PARSE_DOCUMENT"
   },
   "outputs": [],
   "source": "CREATE OR REPLACE TABLE handson.car_insurance.parsed_terms_and_conditions AS -- 新しいテーブルを作成または置き換えます\nSELECT\n    relative_path, -- ステージ内のファイルの相対パス（ファイル名を含む）を取得\n    BUILD_STAGE_FILE_URL('@handson.car_insurance.terms_and_conditions', relative_path) as file_url,\n    -- ステージ内のファイルにアクセスするためのURLを生成\n    TO_FILE(BUILD_STAGE_FILE_URL('@handson.car_insurance.terms_and_conditions', relative_path) ) file_object,\n    -- 生成したURLからファイルオブジェクトを作成 (AI関数に渡す準備)\n    AI_PARSE_DOCUMENT(\n        -- PDFなどのドキュメントを解析し、内容を抽出するSnowflakeのAI関数\n        TO_FILE('@handson.car_insurance.terms_and_conditions', relative_path),\n        -- 解析するファイルを指定 (ステージと相対パスを使用)\n        {'mode':'LAYOUT', 'page_split': false}\n        -- 解析オプションを設定\n        -- 'mode':'LAYOUT' は、元のレイアウトを保持しつつ構造化されたテキストを抽出\n        -- 'page_split': false は、ドキュメント全体を一つのコンテンツとして抽出 (ページごとには分割しない)\n        ):content::string AS content\n        -- AI_PARSE_DOCUMENTの出力（JSON形式）から 'content' キーの値（抽出されたテキスト）を取り出し、文字列型として 'content' 列に格納\nFROM DIRECTORY(@handson.car_insurance.terms_and_conditions)\n-- ファイル情報（relative_pathなど）を取得するために、指定されたステージ（ディレクトリテーブルとして機能）を参照\nWHERE relative_path ILIKE '%.pdf';\n-- 処理対象をファイルパスが '.pdf' で終わるファイルのみに限定（PDFファイルのみを対象とする）"
  },
  {
   "cell_type": "code",
   "execution_count": null,
   "id": "30b74fb0-e433-4f6a-8810-fa631770d650",
   "metadata": {
    "language": "sql",
    "name": "_1_1_Confirm1"
   },
   "outputs": [],
   "source": [
    "SELECT * FROM handson.car_insurance.parsed_terms_and_conditions;"
   ]
  },
  {
   "cell_type": "code",
   "execution_count": null,
   "id": "44823b99-c9d3-406a-8606-ac82066d3e13",
   "metadata": {
    "language": "sql",
    "name": "_1_1_Confirm2"
   },
   "outputs": [],
   "source": "SELECT\n    relative_path,  -- ファイルが保存されている場所（相対パス）\n    file_url,       -- ファイルにアクセスするためのURL\n    REGEXP_SUBSTR(relative_path, '[^/]+$') as title, -- relative_pathからファイル名（タイトル）を抽出\n                                                     -- '[^/]+$' は「最後のスラッシュ（/）以降の全て」を意味\n    content         -- ファイルの中身（内容）を取得\nFROM\n    handson.car_insurance.parsed_terms_and_conditions"
  },
  {
   "cell_type": "markdown",
   "id": "314e0d07-d52f-4edc-bd4b-04bee37fde55",
   "metadata": {
    "collapsed": false,
    "name": "_1_2_Contents"
   },
   "source": "### 1-2. SPLIT_TEXT_RECURSIVE_CHARACTER を使ったチャンクの作成\n\n![img](https://lh3.googleusercontent.com/pw/AP1GczM-CD9_MvwVc3XtQUOFuoQyXLURyXfcp3OGWLmzZa6nERMBwyDy9qB_M557c7CqeYqpAuyDR2jWoIT7yIYhUqLUaueiOY6kLgp0ogU5UHmIy1kzHC7ng7WptxA70kijF5881nU4jd0CZ1l9NYm014v-=w960-h540-s-no-gm?authuser=0)\n\n![img](https://lh3.googleusercontent.com/pw/AP1GczMa92b98auU3QY9eH_s2DdT0r21-1fL1MjtjUP-oDj3cMDA4h_nc0DiDaKejRW2RB3dDyJJSVpt1uiVrmBMXBUe6ikosOSWgVL6VJuPxD3wWIikfbieIB0nqRyvdyun5Vfey7wli1QdaOhxK-tL9mZc=w960-h540-s-no-gm?authuser=0)\n\n本ハンズオンでは以下を設定\n- 分割対象: contentカラムのテキストを分割\n- フォーマット: 'markdown' - ヘッダー、コードブロック、テーブルで分割\n- チャンクサイズ: 2500文字 - 各チャンクの最大文字数\n- 重複サイズ: 500文字 - 隣接するチャンク間で重複させる文字数\n- 処理結果: 2500文字以下のチャンクに分割され、500文字ずつ重複\n\n[ドキュメント](https://docs.snowflake.com/en/sql-reference/functions/split_text_recursive_character-snowflake-cortex) (最新の情報は英語ドキュメントを参照)"
  },
  {
   "cell_type": "code",
   "execution_count": null,
   "id": "5b75c697-cab5-4b51-84f6-cba57e6a4c22",
   "metadata": {
    "language": "sql",
    "name": "_1_2_Chunk"
   },
   "outputs": [],
   "source": "-- チャンク分割用の新しいテーブルの作成\nCREATE OR REPLACE TABLE handson.car_insurance.parsed_terms_and_conditions_chunks (\n    relative_path VARCHAR,   -- 元のファイルの場所(パス)\n    file_url VARCHAR,        -- 元のファイルへのURL\n    title VARCHAR,           -- 元のファイルのタイトル(ファイル名)\n    CHUNK VARCHAR            -- 分割されたテキストの塊（チャンク）\n);\n\n-- 元のテーブルからデータを取得してチャンク分割\nINSERT INTO handson.car_insurance.parsed_terms_and_conditions_chunks (relative_path, file_url, title, CHUNK)\nSELECT\n    relative_path,  -- ファイルのパス\n    file_url,       -- ファイルのURL\n    REGEXP_SUBSTR(relative_path, '[^/]+$') as title,    -- パスからファイル名だけを抽出\n    c.value AS CHUNK    -- 分割されたテキストの塊（チャンク）\nFROM\n    handson.car_insurance.parsed_terms_and_conditions,\n    -- 次の行から、テキスト分割処理を開始\n    LATERAL FLATTEN( input => SNOWFLAKE.CORTEX.SPLIT_TEXT_RECURSIVE_CHARACTER (\n    content,      -- 分割したいテキスト\n    'markdown',   -- テキストの形式を指定\n    2500,         -- チャンクの最大サイズ(2500文字)\n    500           -- チャンク間の重複部分のサイズ（500文字）\n)) c;"
  },
  {
   "cell_type": "code",
   "execution_count": null,
   "id": "239fbf4b-d6a2-4d1b-a08d-056c93e929dc",
   "metadata": {
    "language": "sql",
    "name": "_1_2_Confirm"
   },
   "outputs": [],
   "source": "-- チャンクデータの確認\nSELECT * FROM handson.car_insurance.parsed_terms_and_conditions_chunks;"
  },
  {
   "cell_type": "markdown",
   "id": "2e427b20-46f9-4ec8-834e-f8b1afe84031",
   "metadata": {
    "collapsed": false,
    "name": "_1_3_Contents",
    "resultHeight": 91
   },
   "source": "### 1-3. Cortex Search を利用しコンテキストを理解可能なサービスを作成\n\n![img](https://lh3.googleusercontent.com/pw/AP1GczOWEtOg4Zoz8bUiqaNLbQ3QnN88dX14O7lS6qAqY46OxoeuMMkdf0DpNRHzB9JDNga3DuSJKWF44armW91SORsSSbYN3bQGGsk-cPyBaCAuJ9x6UPRBrHgYSNQYO1NSm5LLREkr8MwjB4ijqD3Plv_Z=w960-h540-s-no-gm?authuser=0)\n\n![img](https://lh3.googleusercontent.com/pw/AP1GczNb7-sVZOoYPnzVvmvx6SzsOUKi0IrxEJxkj702g4JIM4fYz7R_XpdOrS3mse6wKMZ8oRcljRT6YgtC0cwNF-qhoBSL2bzUXoE-qnc3xHiTP6913Wt5BlpkFiwpswaMsuRGJ8J6YlsLMimnT6KPb_9Z=w960-h540-s-no-gm?authuser=0)\n"
  },
  {
   "cell_type": "code",
   "execution_count": null,
   "id": "b24ced01-3ec3-48a4-b7ef-85b827603e6f",
   "metadata": {
    "language": "sql",
    "name": "_1_3_1_CortexSearch"
   },
   "outputs": [],
   "source": [
    "CREATE OR REPLACE CORTEX SEARCH SERVICE handson.car_insurance.terms_and_conditions_service\n",
    "    ON chunk\n",
    "    ATTRIBUTES relative_path, file_url, title\n",
    "    WAREHOUSE = compute_wh\n",
    "    TARGET_LAG = '30 day'\n",
    "    EMBEDDING_MODEL = 'snowflake-arctic-embed-l-v2.0'\n",
    "    AS (\n",
    "        SELECT\n",
    "            relative_path,\n",
    "            file_url,\n",
    "            title,\n",
    "            chunk\n",
    "        FROM handson.car_insurance.parsed_terms_and_conditions_chunks\n",
    "    );"
   ]
  },
  {
   "cell_type": "markdown",
   "id": "c569eebb-46ff-4a35-aba2-3142b617d732",
   "metadata": {
    "collapsed": false,
    "name": "_1_3_1_Appendix"
   },
   "source": [
    "補足）Cortex Search のチューニング例\n",
    "- 属性で絞る → filter\n",
    "- 本文の“意味”で探す → query（セマンティック検索）\n",
    "- 人気/新しさ等を反映 → scoring_config（numeric_boosts / time_decays / reranker）\n",
    "\n",
    "\n",
    "REST API の例\n",
    "```\n",
    "POST https://<account_url>/api/v2/databases/<db>/schemas/<schema>/cortex-search-services/<service>:query\n",
    "Content-Type: application/json\n",
    "Authorization: Bearer <token>\n",
    "\n",
    "{\n",
    "  \"query\": \"事故 対応\",\n",
    "  \"columns\": [\"DOCUMENT_CONTENTS\", \"REGION\", \"CATEGORY\", \"LIKES\", \"CREATED_AT\"],\n",
    "  \"filter\": {\n",
    "    \"@and\": [\n",
    "      { \"@eq\": { \"REGION\": \"JP\" } },\n",
    "      { \"@or\": [\n",
    "        { \"@contains\": { \"TAGS\": \"insight\" } },\n",
    "        { \"@eq\": { \"CATEGORY\": \"guide\" } }\n",
    "      ]},\n",
    "      { \"@gte\": { \"CREATED_AT\": \"2025-07-01+09:00\" } }\n",
    "    ]\n",
    "  },\n",
    "  \"scoring_config\": {\n",
    "    \"functions\": {\n",
    "      \"time_decays\": [\n",
    "        { \"column\": \"CREATED_AT\", \"weight\": 1.0, \"limit_hours\": 240 }\n",
    "      ]\n",
    "    }\n",
    "  },\n",
    "  \"limit\": 50\n",
    "}\n",
    "```\n"
   ]
  },
  {
   "cell_type": "code",
   "execution_count": null,
   "id": "ab685a1c-6c72-4c82-98de-a40181494eff",
   "metadata": {
    "collapsed": false,
    "language": "sql",
    "name": "_1_3_1_Confirm",
    "resultHeight": 427
   },
   "outputs": [],
   "source": "-- アカウント内で作成された Cortex Search サービスを確認\nSHOW CORTEX SEARCH SERVICES IN ACCOUNT;"
  },
  {
   "cell_type": "markdown",
   "id": "623cb456-f027-4a41-8b6f-36bde29ce8b9",
   "metadata": {
    "collapsed": false,
    "name": "_1_3_2_Appendix"
   },
   "source": [
    "SNOWFLAKE.CORTEX.SEARCH_PREVIEW 関数で単発クエリの結果をプレビューする\n",
    "- ワークシートや Snowflake ノートブックから 単発クエリの結果をプレビューする用途の関数"
   ]
  },
  {
   "cell_type": "code",
   "execution_count": null,
   "id": "fb37f93d-debe-44d9-a558-b3c472c65faa",
   "metadata": {
    "language": "sql",
    "name": "_1_3_2_SearchPreview"
   },
   "outputs": [],
   "source": [
    "SELECT PARSE_JSON(\n",
    "  SNOWFLAKE.CORTEX.SEARCH_PREVIEW(\n",
    "      'handson.car_insurance.terms_and_conditions_service',\n",
    "      '{\n",
    "         \"query\": \"事故が発生した場合の対応手順を教えてください。\",\n",
    "         \"columns\": [\"chunk\", \"title\", \"relative_path\", \"file_url\"],\n",
    "         \"limit\": 5\n",
    "      }'\n",
    "  )\n",
    ")['results'] as results;"
   ]
  },
  {
   "cell_type": "code",
   "execution_count": null,
   "id": "f0dc4afb-33e7-4f0f-84b4-b2176d81e356",
   "metadata": {
    "language": "sql",
    "name": "_1_3_2_Confirm"
   },
   "outputs": [],
   "source": [
    "SELECT \n",
    "    '事故対応手順検索' as search_type,\n",
    "    (results.index + 1) as result_rank,\n",
    "    results.value['title']::string as document_title,\n",
    "    results.value['chunk']::string as content,\n",
    "    LENGTH(results.value['chunk']::string) as content_length,\n",
    "    -- results.value['file_url']::string as source_file_url\n",
    "FROM (\n",
    "    SELECT \n",
    "        PARSE_JSON(\n",
    "            SNOWFLAKE.CORTEX.SEARCH_PREVIEW(\n",
    "                'handson.car_insurance.terms_and_conditions_service',\n",
    "                '{\n",
    "                    \"query\": \"事故が発生した場合の対応手順を教えてください。\",\n",
    "                    \"columns\": [\"chunk\", \"title\", \"file_url\"],\n",
    "                    \"limit\": 5\n",
    "                }'\n",
    "            )\n",
    "        )['results'] as results_array\n",
    "),\n",
    "LATERAL FLATTEN(input => results_array) as results\n",
    "ORDER BY results.index;"
   ]
  },
  {
   "cell_type": "markdown",
   "id": "9715c133-cf20-4562-b6ab-503989c3a477",
   "metadata": {
    "collapsed": false,
    "name": "_1_3_3_Contents"
   },
   "source": "### 補足) Cortex Search ダウンロードリンク生成ツール\n- Cortex Searchで検索したドキュメントのダウンロードリンクを生成するストアドプロシージャを用意\n- 最終的にSnowflake Intelligenceを使ってソースとなるドキュメントのダウンロードが可能に"
  },
  {
   "cell_type": "code",
   "execution_count": null,
   "id": "7692e5c2-0d69-4945-b666-7dceb2c553a6",
   "metadata": {
    "language": "sql",
    "name": "_1_3_3_Sproc"
   },
   "outputs": [],
   "source": "-- ストアドプロシージャの定義（作成または置換）\nCREATE OR REPLACE PROCEDURE get_file_presigned_url_sp( \n    RELATIVE_FILE_PATH STRING,                       -- 引数1：ファイルへの相対パス\n    EXPIRATION_MINS INTEGER DEFAULT 60               -- 引数2：URLの有効期限(分), デフォルトは60分\n)\nRETURNS STRING                                       -- 戻り値：生成されたPresigned URL\nLANGUAGE SQL                                         -- 使用言語：SQL\nCOMMENT = '@handson.car_insurance.terms_and_conditions内のファイルに対するpresigned URLを生成します。入力は相対ファイルパスです。'\nEXECUTE AS CALLER                                    -- 実行権限：プロシージャを呼び出したユーザーの権限で実行\n\nAS\n$$\nDECLARE                                              -- 変数宣言の開始\n    presigned_url STRING;                            -- 生成されたURLを格納する変数\n    sql_stmt STRING;                                 -- 実行するSQL文を格納する変数\n    expiration_seconds INTEGER;                      -- 有効期限(秒)を格納する変数\n    stage_name STRING DEFAULT '@handson.car_insurance.terms_and_conditions'; -- ファイルが格納されているステージ名\nBEGIN                                                -- プロシージャ本体の処理開始\n    expiration_seconds := EXPIRATION_MINS * 60;      -- 有効期限を「分」から「秒」に変換\n    \n    sql_stmt := 'SELECT GET_PRESIGNED_URL(' || stage_name || ', ' || '''' || RELATIVE_FILE_PATH || '''' || ', ' || expiration_seconds || ') AS url';\n                                                     -- Presigned URLを生成するためのSQL文を組み立て\n\n    EXECUTE IMMEDIATE :sql_stmt;                     -- 組み立てたSQL文を実行\n\n    SELECT \"URL\"\n    INTO :presigned_url                              -- 実行結果の「URL」列をpresigned_url変数に格納\n    FROM TABLE(RESULT_SCAN(LAST_QUERY_ID()));        -- 最後のクエリ（GET_PRESIGNED_URL）の結果をスキャン\n\n    RETURN :presigned_url;                           -- 生成されたPresigned URLを戻り値として返す\nEND;\n$$;"
  },
  {
   "cell_type": "code",
   "execution_count": null,
   "id": "a0a22404-ef19-4944-826a-5653e8f3ead8",
   "metadata": {
    "language": "sql",
    "name": "_1_3_3_Confirm"
   },
   "outputs": [],
   "source": [
    "CALL get_file_presigned_url_sp('yakkan_driver_insurance.pdf', 60)"
   ]
  },
  {
   "cell_type": "markdown",
   "id": "0c06fbe3-5a74-4836-a50f-32c82796aa74",
   "metadata": {
    "name": "_1_4_Contents",
    "collapsed": false
   },
   "source": "### 1-4. Streamlitでお試し\n\n![img](https://lh3.googleusercontent.com/pw/AP1GczOXF3HrG1b90sR-fNbY_up0KN6zpzmtkjxbXVMvDZ-0IXy1vmC0wefgFVdpmBTG7b__wUy_y7RnXtS9C8keWIzjxuJt6-8oVwnJ6bAG7IVqUCE8ncaaWRu97_k-jkSDbZ0vuYrNMIHMYfiS5TmEqAhZ=w960-h540-s-no-gm?authuser=0)"
  },
  {
   "cell_type": "markdown",
   "id": "ab370f31-a756-4d39-9d15-3f15567094c0",
   "metadata": {
    "name": "_1_6_ChallengeMode",
    "collapsed": false
   },
   "source": "## Challenge Mode 🏂\n - かんぽ生命様のドキュメントでトライしてみましょう\n - S3のパス：s3://snowflake-workshop-lab/japan/handson-jpi/PDFs\n"
  },
  {
   "cell_type": "markdown",
   "id": "e3f30fc1-b13d-42a4-8730-d74387df1ddd",
   "metadata": {
    "collapsed": false,
    "name": "_2_Overview"
   },
   "source": "## 2. Text-to-SQLで自動車保険ビジネスにおける様々な部門の課題解決に直結するインサイトの提供\n![img](https://lh3.googleusercontent.com/pw/AP1GczNxo-PTxXi6JXI9Jybc565_rvOwrosABKsOrDYvY-BbN5PAY2ZtJQwDSKqmvCUCNWNAzAvwHlPWYGxoWB54AbTaMYL4vm0y3d4sZSbObawYM5TBfy5jMqZTEcfAUEh67ChxnmvAOSh06Dae6Z98LSQn=w960-h540-s-no-gm?authuser=0)"
  },
  {
   "cell_type": "markdown",
   "id": "859b76e6-3bab-4be1-b35b-64826402c009",
   "metadata": {
    "name": "_2_1_Contents",
    "collapsed": false
   },
   "source": "### 2-1. セマンティックビューの作成\n![img](https://lh3.googleusercontent.com/pw/AP1GczMS8gfqMW9e7b-0Anl8baXt6yvubLJ6yzijJh49U4-l6eLjNpJnvTKjXKcIc2iNRlkyzV0ZEPogKS9DuvqSXEUTOmRunMIo6g2UVOfgveYWKj1FHDbfk3vVVvWEOTy6w32Kld79EfpIDRhGkkAd5PR0=w960-h540-s-no-gm?authuser=0)\n1. GUI でセマンティックビューを作成してみる\n    - 「AIとML」→「Cortex分析」→「新規作成」→「Create new Semantic View」を選択\n2. 次のセルを実行しSQLでセマンティックビューを作成し、GUIで動作を確認する\n\n"
  },
  {
   "cell_type": "markdown",
   "id": "4bef884f-48f8-4d29-8e54-c16572f15e67",
   "metadata": {
    "collapsed": false,
    "name": "_2_DataSet"
   },
   "source": "![img](https://lh3.googleusercontent.com/pw/AP1GczOgagfCPfNAZLjeHdon2_SwCuZqwm1kL-Bwo0LKjjranKs-rlvqT-y4vZC4GXttZEv_SxRHvd3kNjZT_9qy5UZTv8SAfiXFXU-aN41q618ZT37sHRk0kF1FIi82H0guENJuOV3QH3L5Ax8T3353fzCq=w960-h540-s-no-gm?authuser=0)"
  },
  {
   "cell_type": "markdown",
   "id": "dfcc47cf-0c12-4d19-a14b-95db13bc8936",
   "metadata": {
    "collapsed": false,
    "name": "_2_1_Semantic"
   },
   "source": "#### 補足) セマンティックビューの定義について\n\n![img](https://lh3.googleusercontent.com/pw/AP1GczMNPGvZ9ie_XnVUiT88JnEMKI1wtr12kgj_5cs-vOuHfj9Y1WIBIS2XAFZC_B2UxKrSoGJnV-7ljYveRE-m5zcZpZ2OtoGMgjxBvqi2CHaD-uGfR9Pql_g2OHc0jXJZh0vRgDdITDQwYiZFcXsFzvaK=w960-h540-s-no-gm?authuser=0)\n\n**ディメンション** ： \n- データをグループ化したり、絞り込んだり、分析したりするための「切り口」や「視点」を提供するもの\n- 例) 購入日、顧客の詳細、製品カテゴリー、場所など、「誰が」「何を」「どこで」「いつ」問題に答えるもの\n\n**ファクト** ： \n- ファクトは分析の最終的な指標そのものではなく、その指標を計算するための基礎となる構成要素\n\n**メトリクス** ： \n- 複数の行にわたって同じテーブルのファクトや他の列を（SUM、AVG、COUNT などの関数を使用して）集約することによって計算される、ビジネス・パフォーマンスの定量化可能な尺度\n- 例) 総収入や利益率など。メトリクスは、ビジネスの意思決定を促進するレポートやダッシュボードの KPI を表します。\n\n"
  },
  {
   "cell_type": "code",
   "execution_count": null,
   "id": "3a198983-c2e5-41a9-9f47-2c67341c33bc",
   "metadata": {
    "language": "sql",
    "name": "_2_1_SematicView"
   },
   "outputs": [],
   "source": [
    "CREATE OR REPLACE SEMANTIC VIEW INSURANCE_CLAIMS_SEMANTIC_VIEW\n",
    "    tables (\n",
    "        CLAIMS as CLAIMS primary key (CLAIM_ID) \n",
    "            with synonyms=('保険金請求','請求','事故') \n",
    "            comment='保険金請求に関する中心的なファクトテーブル',\n",
    "        POLICIES as POLICIES primary key (POLICY_ID) \n",
    "            with synonyms=('保険契約','契約','ポリシー') \n",
    "            comment='保険契約者と車両に関するディメンションテーブル',\n",
    "        REPAIR_SHOPS as REPAIR_SHOPS primary key (SHOP_ID) \n",
    "            with synonyms=('修理工場','工場','パートナー工場') \n",
    "            comment='提携している修理工場に関するディメンションテーブル',\n",
    "        REPAIR_ORDERS as REPAIR_ORDERS primary key (ORDER_ID) \n",
    "            with synonyms=('修理指示','修理明細','作業指示') \n",
    "            comment='各請求に対する修理作業の明細データ'\n",
    "    )\n",
    "    relationships (\n",
    "        CLAIMS_TO_POLICIES as CLAIMS(POLICY_ID) references POLICIES(POLICY_ID),\n",
    "        CLAIMS_TO_SHOPS as CLAIMS(REPAIR_SHOP_ID) references REPAIR_SHOPS(SHOP_ID),\n",
    "        ORDERS_TO_CLAIMS as REPAIR_ORDERS(CLAIM_ID) references CLAIMS(CLAIM_ID)\n",
    "    )\n",
    "    facts (\n",
    "        CLAIMS.claim_record as 1 \n",
    "            comment='請求レコード数。件数のカウントに使用',\n",
    "        CLAIMS.approved_cost_yen as APPROVED_COST_YEN \n",
    "            comment='承認された修理費用（円）',\n",
    "        CLAIMS.estimate_cost_yen as ESTIMATE_COST_YEN \n",
    "            comment='見積もり修理費用（円）',\n",
    "        CLAIMS.paid_to_date_yen as PAID_TO_DATE_YEN \n",
    "            comment='支払済み金額（円）',\n",
    "        POLICIES.policy_record as 1 \n",
    "            comment='契約レコード数。件数のカウントに使用',\n",
    "        POLICIES.annual_premium_yen as ANNUAL_PREMIUM_YEN \n",
    "            comment='年間保険料（円）',\n",
    "        REPAIR_ORDERS.repair_cost as LINE_TOTAL_AFTER_ADJ_YEN\n",
    "            comment='修理明細の合計金額（調整後、円）',\n",
    "        REPAIR_ORDERS.labor_hours as LABOR_HOURS\n",
    "            comment='作業時間（時間）'\n",
    "    )\n",
    "    dimensions (\n",
    "        -- CLAIMS テーブルのディメンション\n",
    "        CLAIMS.incident_date as INCIDENT_DATE \n",
    "            with synonyms=('事故日','発生日') \n",
    "            comment='事故が発生した日付',\n",
    "        CLAIMS.incident_year as YEAR(incident_date) \n",
    "            with synonyms=('事故年','発生年') \n",
    "            comment='事故が発生した年',\n",
    "        CLAIMS.incident_month as MONTH(incident_date) \n",
    "            with synonyms=('事故月','発生月') \n",
    "            comment='事故が発生した月',\n",
    "        CLAIMS.claim_status as CLAIM_STATUS \n",
    "            with synonyms=('請求ステータス','ステータス') \n",
    "            comment='保険金請求の現在のステータス (Open, Approved, Paid, Denied)',\n",
    "        CLAIMS.loss_cause as LOSS_CAUSE \n",
    "            with synonyms=('事故原因','原因') \n",
    "            comment='損害の原因 (Collision, Weather, Theftなど)',\n",
    "        CLAIMS.severity as SEVERITY \n",
    "            with synonyms=('損害の大きさ','深刻度') \n",
    "            comment='損害の深刻度 (Minor, Moderate, Severe, Total Loss)',\n",
    "        CLAIMS.incident_prefecture as INCIDENT_PREFECTURE \n",
    "            with synonyms=('事故発生都道府県','事故現場の都道府県') \n",
    "            comment='事故が発生した都道府県',\n",
    "        CLAIMS.fraud_score as FRAUD_SCORE\n",
    "            with synonyms=('不正スコア', '詐欺スコア')\n",
    "            comment='請求の不正行為の可能性を示すスコア',\n",
    "        -- POLICIES テーブルのディメンション\n",
    "        POLICIES.vehicle_make as VEHICLE_MAKE \n",
    "            with synonyms=('自動車メーカー','メーカー') \n",
    "            comment='車両のメーカー',\n",
    "        POLICIES.vehicle_model as VEHICLE_MODEL\n",
    "            with synonyms=('車種','モデル')\n",
    "            comment='車両のモデル名',\n",
    "        POLICIES.vehicle_age_band as VEHICLE_AGE_BAND \n",
    "            with synonyms=('車齢帯','車両年式') \n",
    "            comment='車両の年式帯 (Newer, Mid, Older)',\n",
    "        POLICIES.vehicle_use as VEHICLE_USE\n",
    "            with synonyms=('車両用途','使用目的')\n",
    "            comment='車両の主な使用目的 (Personal, Commute, Commercial)',\n",
    "        POLICIES.driver_age as DRIVER_AGE\n",
    "            with synonyms=('運転者年齢','ドライバー年齢')\n",
    "            comment='契約時の運転者の年齢',\n",
    "        POLICIES.policy_status as POLICY_STATUS \n",
    "            with synonyms=('契約ステータス') \n",
    "            comment='保険契約のステータス (Active, Lapsed, Cancelled)',\n",
    "        POLICIES.registered_prefecture as REGISTERED_PREF\n",
    "            with synonyms=('登録都道府県')\n",
    "            comment='車両が登録されている都道府県',\n",
    "        -- REPAIR_SHOPS テーブルのディメンション\n",
    "        REPAIR_SHOPS.shop_name as SHOP_NAME \n",
    "            with synonyms=('修理工場名','工場名') \n",
    "            comment='修理工場の名称',\n",
    "        REPAIR_SHOPS.shop_prefecture as PREFECTURE \n",
    "            with synonyms=('工場都道府県','工場所在地') \n",
    "            comment='修理工場の都道府県',\n",
    "        REPAIR_SHOPS.partner_tier as PARTNER_TIER \n",
    "            with synonyms=('パートナーランク','ティア') \n",
    "            comment='修理工場のパートナーランク (A, B, C)',\n",
    "        REPAIR_SHOPS.shop_rating as RATING\n",
    "            with synonyms=('工場評価','評価')\n",
    "            comment='修理工場の評価スコア',\n",
    "        -- REPAIR_ORDERS テーブルのディメンション\n",
    "        REPAIR_ORDERS.work_start_date as WORK_START_DATE\n",
    "            with synonyms=('修理開始日')\n",
    "            comment='修理作業の開始日',\n",
    "        REPAIR_ORDERS.work_end_date as WORK_END_DATE\n",
    "            with synonyms=('修理完了日')\n",
    "            comment='修理作業の完了日'\n",
    "    )\n",
    "    metrics (\n",
    "        CLAIMS.TOTAL_CLAIMS as COUNT(claims.claim_record) \n",
    "            with synonyms=('総請求件数','合計請求件数')\n",
    "            comment='すべての保険金請求の合計件数',\n",
    "        CLAIMS.TOTAL_APPROVED_COST as SUM(claims.approved_cost_yen) \n",
    "            with synonyms=('総承認費用','合計承認費用')\n",
    "            comment='承認された修理費用の合計額',\n",
    "        CLAIMS.AVERAGE_APPROVED_COST as AVG(claims.approved_cost_yen) \n",
    "            with synonyms=('平均承認費用')\n",
    "            comment='承認された修理費用の平均額',\n",
    "        CLAIMS.TOTAL_PAID_AMOUNT as SUM(claims.paid_to_date_yen)\n",
    "            with synonyms=('総支払額','合計支払額')\n",
    "            comment='支払われた保険金の合計額',\n",
    "        POLICIES.TOTAL_POLICIES as COUNT(policies.policy_record) \n",
    "            with synonyms=('総契約件数','合計契約件数')\n",
    "            comment='保険契約の総件数',\n",
    "        POLICIES.TOTAL_PREMIUM_REVENUE as SUM(policies.annual_premium_yen) \n",
    "            with synonyms=('総保険料収入','合計保険料')\n",
    "            comment='年間保険料の合計額',\n",
    "        REPAIR_ORDERS.TOTAL_REPAIR_COST as SUM(repair_orders.repair_cost)\n",
    "            with synonyms=('総修理費用','合計修理費用')\n",
    "            comment='修理にかかった費用の総額'\n",
    "    )\n",
    "    COMMENT='自動車保険の契約、請求、修理に関する分析のためのセマンティックビュー';"
   ]
  },
  {
   "cell_type": "markdown",
   "id": "6a0c8c72-4bd2-469d-8fbb-a1a5b01832c6",
   "metadata": {
    "collapsed": false,
    "name": "_2_1_Appendix"
   },
   "source": [
    "参考）セマンティックモデル/ビューで改善ポイントまとめ\n",
    "\n",
    "| ポイント                           | 概要                                                   |\n",
    "| ---------------------------- | ----------------------------------------------------- |\n",
    "| シンプルに始める                     | 範囲を絞り、少数のテーブルと列から開始し、段階的に拡張                           |\n",
    "| ユースケースを明確に定義する               | 各セマンティックモデルは特定のビジネス領域に特化させる                           |\n",
    "| 精度向上のためのテーブルと列の制限            | ユーザーが尋ねる可能性のある主要な質問に必要なテーブルと列のみを含める                   |\n",
    "| Text to SQL で利用するテーブルのセットアップ | スタースキーマをサポートし、データの重複を避けることで LLM の判断を補助                |\n",
    "| カラムの選択                       | 類似した名前や意味を持つ列を避け、モデルの混乱を防ぐ                            |\n",
    "| メトリクスを個別の列に分割                | 各指標を個別の列にフラット化し、より多くの意味的情報を提供する                       |\n",
    "| 複雑な計算を直接定義する                 | メジャー、ディメンション、時間、フィルターをセマンティックモデル内で定義する                |\n",
    "| パフォーマンスの改善                   | まずは低コストで効果的な手法から着手し、徐々に複雑な機能強化を検討する                   |\n",
    "| シノニムと説明書きについて                | 論理列名を調整し、企業固有の用語や慣用表現、同義語を追加する                        |\n",
    "| 半構造化データについて                  | 可能であれば前処理を行い、個別の列にフラット化を推奨                            |\n",
    "| サンプル値                        | 各ディメンションにサンプル値を提供することで、LLM が正確なクエリを作成するのを補助           |\n",
    "| Cortex Search との統合           | 大規模な値の集合に対するフィルタリングに Cortex Search の使用を推奨             |\n",
    "| Cortex Search の設定            | 上記を利用する場合はセマンティックモデルに組み込む前に、Cortex Search を別途設定する必要あり |\n",
    "| Verified query repository    | 検証済み SQL をセマンティックモデルに追加し、複雑なクエリや一般的な質問に利用する             |\n",
    "| カスタムインストラクション                | LLM の挙動を調整するために、明確で具体的な指示を記述                          |\n",
    "| 質問のカテゴリライズ                   | SQL 生成を試みる前に質問分類を定義し、関連性のない質問は極力避ける                      |\n",
    "| SQL 生成                       | SQL の生成方法を指定し、フォーマットやフィルターを適用する                       |\n",
    "| カスタムインストラクション                | 非英語圏の言語（例：日本語）の文字列を翻訳しないよう指示が可能                       |\n",
    "| ライフサイクル                      | ユーザーフィードバックを収集し、セマンティックモデルを継続的に洗練させる                  |\n"
   ]
  },
  {
   "cell_type": "markdown",
   "id": "7a5dca30-d68a-4236-8ac1-d5a6ebb132bd",
   "metadata": {
    "collapsed": false,
    "name": "_2_2_Contents"
   },
   "source": "### 2-2. Streamlitでお試し\n\n![img](https://lh3.googleusercontent.com/pw/AP1GczOMWOxz_hM5Igo2KuKzCUm5tevM3dadU9g1Vr7OCl-ZaW87jZkHUwZVoRcxyJ8uiyK4DrY8pVkrrbHLy1U4eP_b0Iku6jo5AaS6vMto41C4eqfzpiuTnJIsVyzoRTRaqLn5v0QDh8bj312LlyaaC4r7=w960-h540-s-no-gm?authuser=0)\n"
  },
  {
   "cell_type": "markdown",
   "id": "4cc40a93-a0f9-45db-84f4-ec483bb65242",
   "metadata": {
    "name": "_2_3_ChallengeMode",
    "collapsed": false
   },
   "source": "## Challenge Mode 🏂\n*Easy Mode* \n - Citibikeのデータ\n\n*Hard Mode*\n - QuickStartsのデータ： [URL](https://quickstarts.snowflake.com/guide/getting_started_with_cortex_analyst/index.html)"
  },
  {
   "cell_type": "markdown",
   "id": "763436a1-5b8a-4b66-b9dd-7b8382b65046",
   "metadata": {
    "name": "_3_1_Contents",
    "collapsed": false
   },
   "source": "### 3-1. 作成したオブジェクト(Cortex Analyst / Search)を使って Cortex Agent を作成する\n\n![img](https://lh3.googleusercontent.com/pw/AP1GczOT9Wq8AXzsPOrqNWXaoiZt3CMthK2Sku200Fuoag2G0QTH4YJj1QUWav7C2JHBTQVo-AK5k6h6Njxwo1i0jbAq5g3k-sXAkL1CXa5TKUZpTgtwo4EdYJ-feScR1IraJhUPwCmOI7Ngn21hNWMfD2V1=w960-h540-s-no-gm?authuser=0)\n\n- SQL で実施 (GUIでも可能)"
  },
  {
   "cell_type": "code",
   "execution_count": null,
   "id": "5fb67190-962e-41dc-a523-f462df6e4fab",
   "metadata": {
    "language": "sql",
    "name": "_3_1_Agent"
   },
   "outputs": [],
   "source": [
    "CREATE OR REPLACE AGENT snowflake_intelligence.agents.driver_insurance_chatbot_agent\n",
    "WITH PROFILE='{ \"display_name\": \"driver_insurance_agent\" }'\n",
    "    COMMENT=$$ 自動車保険に関する質問に回答するエージェントです。 $$\n",
    "FROM SPECIFICATION $$\n",
    "{\n",
    "  \"models\": {\n",
    "    \"orchestration\": \"\"\n",
    "  },\n",
    "  \"instructions\": {\n",
    "    \"response\": \"あなたは自動車保険に関するのデータマートにアクセスできるデータアナリストです。ユーザーが日付範囲を指定しない場合は、2025年と仮定してください。すべてのドメインからのデータを活用して、ユーザーの質問を分析し回答してください。可能であれば視覚化を提供してください。トレンドラインは線グラフをデフォルトとし、カテゴリは棒グラフを使用してください。\",\n",
    "    \"orchestration\": \"既知のエンティティに対してcortex searchを使用し、詳細な分析のためにcortex analystに結果を渡してください。\",\n",
    "    \"sample_questions\": [\n",
    "      {\n",
    "        \"question\": \"事故が発生した都道府県ごとに、平均承認費用を比較して、高い順に並べて可視化してください\"\n",
    "      }\n",
    "    ]\n",
    "  },\n",
    "  \"tools\": [\n",
    "    {\n",
    "      \"tool_spec\": {\n",
    "        \"type\": \"cortex_analyst_text_to_sql\",\n",
    "        \"name\": \"DRIVER INSURANCE SYSTEM DATAMART\",\n",
    "        \"description\": \"お客様の自動車保険に関するデータをクエリすることをユーザーに許可します。\"\n",
    "      }\n",
    "    },\n",
    "    {\n",
    "      \"tool_spec\": {\n",
    "        \"type\": \"cortex_search\",\n",
    "        \"name\": \"DRIVER INSURANCE SEARCH\",\n",
    "        \"description\": \"このツールはドライバー保険の約款データを検索するために使用します。\"\n",
    "      }\n",
    "    },\n",
    "    {\n",
    "      \"tool_spec\": {\n",
    "        \"type\": \"generic\",\n",
    "        \"name\": \"Doc URL Tool\",\n",
    "        \"description\": \"このツールは、参照ドキュメント用のCortex Searchツールから取得したrelative_pathを使用し、ユーザーがドキュメントを表示・ダウンロードするための一時URLを返します。\\n\\n返されたURLは、ドキュメントタイトルをテキストとし、このツールの出力をURLとするHTMLハイパーリンクとして表示する必要があります。\\n\\nURLにPDFが含まれていないPDFドキュメントのURL形式は次のようになります。ファイルをダウンロードする代わりにブラウザでPDFドキュメントが開くようにハイパーリンク形式を作成してください。\\nhttps://domain/path/unique_guid\",\n",
    "        \"input_schema\": {\n",
    "          \"type\": \"object\",\n",
    "          \"properties\": {\n",
    "            \"expiration_mins\": {\n",
    "              \"description\": \"デフォルトは5にする必要があります\",\n",
    "              \"type\": \"number\"\n",
    "            },\n",
    "            \"relative_file_path\": {\n",
    "              \"description\": \"これはCortex Searchツールから取得されるrelative_pathの値です。\",\n",
    "              \"type\": \"string\"\n",
    "            }\n",
    "          },\n",
    "          \"required\": [\n",
    "            \"expiration_mins\",\n",
    "            \"relative_file_path\"\n",
    "          ]\n",
    "        }\n",
    "      }\n",
    "    }\n",
    "  ],\n",
    "  \"tool_resources\": {\n",
    "    \"DRIVER INSURANCE SYSTEM DATAMART\": {\n",
    "      \"semantic_view\": \"handson.car_insurance.insurance_claims_semantic_view\"\n",
    "    },\n",
    "    \"DRIVER INSURANCE SEARCH\": {\n",
    "      \"id_column\": \"relative_path\",\n",
    "      \"max_results\": 5,\n",
    "      \"name\": \"handson.car_insurance.terms_and_conditions_service\",\n",
    "      \"title_column\": \"title\"\n",
    "    },\n",
    "    \"Doc URL Tool\": {\n",
    "      \"execution_environment\": {\n",
    "        \"query_timeout\": 0,\n",
    "        \"type\": \"warehouse\",\n",
    "        \"warehouse\": \"COMPUTE_WH\"\n",
    "      },\n",
    "      \"identifier\": \"handson.car_insurance.get_file_presigned_url_sp\",\n",
    "      \"name\": \"GET_FILE_PRESIGNED_URL_SP(VARCHAR, DEFAULT NUMBER)\",\n",
    "      \"type\": \"procedure\"\n",
    "    },\n",
    "  }\n",
    "}\n",
    "$$;"
   ]
  },
  {
   "cell_type": "markdown",
   "id": "ba8221d4-cc5b-436d-8b8e-e26df67e59be",
   "metadata": {
    "collapsed": false,
    "name": "_3_2_Contents"
   },
   "source": "### 3-2. Snowflake Intelligence を使った AI Agent チャットボットの作成\n\n![img](https://lh3.googleusercontent.com/pw/AP1GczMGwzIHe61li9c-8mNH5rxiQmSR3qOJ0mpAzVVfs3DOBvX7yzS7JbLJ7BOXbTEw9E5zGZat0DED-78NtHRzMgXOnqtSk5SVQHdF8DfQXQnLm53bmytRiM4-6t2ae2nicqLtSrjrH1Ur4Hw0JxKkAsMj=w960-h540-s-no-gm?authuser=0)\n- GUIで作成"
  },
  {
   "cell_type": "markdown",
   "id": "8cc3d567-bbf6-4c8e-aff4-e7bae8f5b40f",
   "metadata": {
    "collapsed": false,
    "name": "Q_Sample"
   },
   "source": [
    "### 「AIML」→「Snowflakeインテリジェンス」をクリックしてSnowflakeインテリジェンスを起動\n",
    "\n",
    "以下、Snowflakeインテリジェンスに対する質問のサンプル\n",
    "\n",
    "---\n",
    "Cortex Search向け質問\n",
    "\n",
    "質問1：手続きについて\n",
    "- 保険金の手続きを完了してから、いつまでに保険金を支払っていただけますか？尚、根拠となるソースをダウンロードできるようにしてください。\n",
    "\n",
    "質問2：補償内容について\n",
    "- 日常生活で、誤ってお店の商品を壊してしまいました。個人賠償責任補償特約で補償されますか？\n",
    "\n",
    "質問3：保険金が支払われないケースについて\n",
    "- 地震が原因でケガをした場合、傷害保険の保険金は支払われますか？\n",
    "\n",
    "---\n",
    "Cortex Analyst向け質問\n",
    "\n",
    "質問1：地理的リスクとコストの分析\n",
    "- 事故が発生した都道府県ごとに、平均承認費用を比較して、高い順に並べて可視化して\n",
    "\n",
    "質問2：車両特性と事故原因の関連性分析\n",
    "- 自動車メーカー別に、事故原因ごとの請求件数をクロス集計で見せてください。\n",
    "\n",
    "質問3：提携工場のパフォーマンス評価\n",
    "- 各修理工場の平均修理期間（修理完了日 - 修理開始日）を計算し、期間が長い順にトップ5の工場を教えてください。\n"
   ]
  }
 ]
}
